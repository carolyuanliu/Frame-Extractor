{
 "cells": [
  {
   "cell_type": "code",
   "execution_count": 1,
   "id": "d4c39842-5cda-4e0b-838a-b8f64643dffa",
   "metadata": {},
   "outputs": [
    {
     "name": "stdout",
     "output_type": "stream",
     "text": [
      "Extracted 2011 frames from GS040157.mp4 to frames_output/GS040157\n",
      "Extracted 2011 frames from GS080160.mp4 to frames_output/GS080160\n",
      "Extracted 2007 frames from GS020232.mp4 to frames_output/GS020232\n",
      "Extracted 2011 frames from GS070161.mp4 to frames_output/GS070161\n",
      "Extracted 2011 frames from GS020230.mp4 to frames_output/GS020230\n",
      "Extracted 2011 frames from GS020157.mp4 to frames_output/GS020157\n",
      "Extracted 2007 frames from GS030232.mp4 to frames_output/GS030232\n",
      "Extracted 1119 frames from GS100157.mp4 to frames_output/GS100157\n",
      "Extracted 2011 frames from GS090157.mp4 to frames_output/GS090157\n",
      "Extracted 2947 frames from GH080158.MP4 to frames_output/GH080158\n",
      "Extracted 2011 frames from GS080157.mp4 to frames_output/GS080157\n",
      "Extracted 2947 frames from GH090158.MP4 to frames_output/GH090158\n"
     ]
    }
   ],
   "source": [
    "import cv2\n",
    "import os\n",
    "\n",
    "def video_to_frames(video_path, output_dir, prefix=\"frame\", skip_frames=5):\n",
    "    cap = cv2.VideoCapture(video_path)\n",
    "    if not cap.isOpened():\n",
    "        print(f\"Skipping {video_path} (cannot open).\")\n",
    "        return\n",
    "\n",
    "    os.makedirs(output_dir, exist_ok=True)\n",
    "    saved_idx = 0\n",
    "\n",
    "    while True:\n",
    "        ret, frame = cap.read()\n",
    "        if not ret:\n",
    "            break\n",
    "\n",
    "        frame_filename = os.path.join(output_dir, f\"{prefix}_{saved_idx:05d}.jpg\")\n",
    "        cv2.imwrite(frame_filename, frame)\n",
    "        saved_idx += 1\n",
    "\n",
    "        for _ in range(skip_frames):\n",
    "            if not cap.grab():\n",
    "                break\n",
    "\n",
    "    cap.release()\n",
    "    print(f\"Extracted {saved_idx} frames from {os.path.basename(video_path)} to {output_dir}\")\n",
    "\n",
    "def process_all_videos(input_folder=\"Videos\", output_base=\"frames_output\", skip_frames=5):\n",
    "    for filename in os.listdir(input_folder):\n",
    "        if filename.lower().endswith(('.mp4', '.mov', '.avi', '.mkv')):\n",
    "            video_path = os.path.join(input_folder, filename)\n",
    "            name = os.path.splitext(filename)[0]\n",
    "            output_dir = os.path.join(output_base, name)\n",
    "            video_to_frames(video_path, output_dir, skip_frames=skip_frames)\n",
    "\n",
    "# Example usage\n",
    "process_all_videos()\n",
    "\n"
   ]
  },
  {
   "cell_type": "code",
   "execution_count": null,
   "id": "83e95295-baad-4d29-bdc6-88f6ea27c874",
   "metadata": {},
   "outputs": [],
   "source": []
  }
 ],
 "metadata": {
  "kernelspec": {
   "display_name": "Python 3 (ipykernel)",
   "language": "python",
   "name": "python3"
  },
  "language_info": {
   "codemirror_mode": {
    "name": "ipython",
    "version": 3
   },
   "file_extension": ".py",
   "mimetype": "text/x-python",
   "name": "python",
   "nbconvert_exporter": "python",
   "pygments_lexer": "ipython3",
   "version": "3.12.2"
  }
 },
 "nbformat": 4,
 "nbformat_minor": 5
}
